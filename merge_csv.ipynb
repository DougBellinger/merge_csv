{
 "cells": [
  {
   "cell_type": "markdown",
   "metadata": {},
   "source": [
    "# Extract Parameter from File Names\n",
    "* Each file has:\n",
    "    * <font color=blue>id</font> - the fish's unique id\n",
    "    * <font color=green>test</font> - Hypoxia or Normoxia\n",
    "    * <font color=cyan>date</font> - the date the data was collected\n",
    "* for example:\n",
    "    * files/CTswim Hyperoxia Cleaned/<font color=blue>411980</font>-CTswim-<font color=green>Hyperoxia</font>-Cleaned-<font color=cyan>29-09-2023</font>.csv\n",
    "\n",
    "\n"
   ]
  },
  {
   "cell_type": "code",
   "execution_count": 65,
   "metadata": {},
   "outputs": [],
   "source": [
    "import pandas as pd\n",
    "import os\n",
    "import re\n",
    "from datetime import datetime\n",
    "\n",
    "directory = \"./files\"\n",
    "file_list = os.listdir(directory)\n"
   ]
  },
  {
   "cell_type": "markdown",
   "metadata": {},
   "source": [
    "## Use a 'regular expression' to extract the parameters"
   ]
  },
  {
   "cell_type": "code",
   "execution_count": 66,
   "metadata": {},
   "outputs": [
    {
     "data": {
      "text/plain": [
       "('541042', 'Hyperoxia', '25-08-2023')"
      ]
     },
     "execution_count": 66,
     "metadata": {},
     "output_type": "execute_result"
    }
   ],
   "source": [
    "filename = \"([0-9]+)-CTswim-(Hyperoxia|Normoxia)-Cleaned-([0-9_-]*).csv\"\n",
    "test = \"541042-CTswim-Hyperoxia-Cleaned-25-08-2023.csv\"\n",
    "match = re.compile(filename).search(test)\n",
    "match.groups()"
   ]
  },
  {
   "cell_type": "markdown",
   "metadata": {},
   "source": [
    "## List the files, and extract the parameters"
   ]
  },
  {
   "cell_type": "code",
   "execution_count": 67,
   "metadata": {},
   "outputs": [
    {
     "name": "stdout",
     "output_type": "stream",
     "text": [
      "./files\n",
      "./files/CTswim Hyperoxia Cleaned\n",
      "./files/CTswim Hyperoxia Cleaned/slopes_\n",
      "./files/CTswim Normoxia Cleaned\n",
      "./files/CTswim Normoxia Cleaned/Slopes\n"
     ]
    },
    {
     "data": {
      "text/plain": [
       "[{'file': './files/CTswim Hyperoxia Cleaned/541042-CTswim-Hyperoxia-Cleaned-25-08-2023.csv',\n",
       "  'id': '541042',\n",
       "  'test': 'Hyperoxia',\n",
       "  'date': '25-08-2023'},\n",
       " {'file': './files/CTswim Hyperoxia Cleaned/412042-CTswim-Hyperoxia-Cleaned-21-09-2023.csv',\n",
       "  'id': '412042',\n",
       "  'test': 'Hyperoxia',\n",
       "  'date': '21-09-2023'},\n",
       " {'file': './files/CTswim Hyperoxia Cleaned/412017-CTswim-Hyperoxia-Cleaned-02-12-2023.csv',\n",
       "  'id': '412017',\n",
       "  'test': 'Hyperoxia',\n",
       "  'date': '02-12-2023'},\n",
       " {'file': './files/CTswim Hyperoxia Cleaned/541021-CTswim-Hyperoxia-Cleaned-03-12-2023.csv',\n",
       "  'id': '541021',\n",
       "  'test': 'Hyperoxia',\n",
       "  'date': '03-12-2023'},\n",
       " {'file': './files/CTswim Hyperoxia Cleaned/412054-CTswim-Hyperoxia-Cleaned-11-09-2023.csv',\n",
       "  'id': '412054',\n",
       "  'test': 'Hyperoxia',\n",
       "  'date': '11-09-2023'},\n",
       " {'file': './files/CTswim Hyperoxia Cleaned/412030-CTswim-Hyperoxia-Cleaned-03-12-2023.csv',\n",
       "  'id': '412030',\n",
       "  'test': 'Hyperoxia',\n",
       "  'date': '03-12-2023'},\n",
       " {'file': './files/CTswim Hyperoxia Cleaned/412056-CTswim-Hyperoxia-Cleaned-04-12-2023.csv',\n",
       "  'id': '412056',\n",
       "  'test': 'Hyperoxia',\n",
       "  'date': '04-12-2023'},\n",
       " {'file': './files/CTswim Hyperoxia Cleaned/543292-CTswim-Hyperoxia-Cleaned-01-09-2023.csv',\n",
       "  'id': '543292',\n",
       "  'test': 'Hyperoxia',\n",
       "  'date': '01-09-2023'},\n",
       " {'file': './files/CTswim Hyperoxia Cleaned/552940-CTswim-Hyperoxia-Cleaned-15-09-2023.csv',\n",
       "  'id': '552940',\n",
       "  'test': 'Hyperoxia',\n",
       "  'date': '15-09-2023'},\n",
       " {'file': './files/CTswim Hyperoxia Cleaned/412032-CTswim-Hyperoxia-Cleaned-28-08-2023.csv',\n",
       "  'id': '412032',\n",
       "  'test': 'Hyperoxia',\n",
       "  'date': '28-08-2023'},\n",
       " {'file': './files/CTswim Hyperoxia Cleaned/538958-CTswim-Hyperoxia-Cleaned-24-08-2023.csv',\n",
       "  'id': '538958',\n",
       "  'test': 'Hyperoxia',\n",
       "  'date': '24-08-2023'},\n",
       " {'file': './files/CTswim Hyperoxia Cleaned/411980-CTswim-Hyperoxia-Cleaned-29-09-2023.csv',\n",
       "  'id': '411980',\n",
       "  'test': 'Hyperoxia',\n",
       "  'date': '29-09-2023'},\n",
       " {'file': './files/CTswim Hyperoxia Cleaned/543204-CTswim-Hyperoxia-Cleaned-30-08-2023.csv',\n",
       "  'id': '543204',\n",
       "  'test': 'Hyperoxia',\n",
       "  'date': '30-08-2023'},\n",
       " {'file': './files/CTswim Hyperoxia Cleaned/550993-CTswim-Hyperoxia-Cleaned-22-09-2023.csv',\n",
       "  'id': '550993',\n",
       "  'test': 'Hyperoxia',\n",
       "  'date': '22-09-2023'},\n",
       " {'file': './files/CTswim Normoxia Cleaned/538958-CTswim-Normoxia-Cleaned-02-10-2023.csv',\n",
       "  'id': '538958',\n",
       "  'test': 'Normoxia',\n",
       "  'date': '02-10-2023'},\n",
       " {'file': './files/CTswim Normoxia Cleaned/412056-CTswim-Normoxia-Cleaned-06-09-2023.csv',\n",
       "  'id': '412056',\n",
       "  'test': 'Normoxia',\n",
       "  'date': '06-09-2023'},\n",
       " {'file': './files/CTswim Normoxia Cleaned/412042-CTswim-Normoxia-Cleaned-13-11-2023.csv',\n",
       "  'id': '412042',\n",
       "  'test': 'Normoxia',\n",
       "  'date': '13-11-2023'},\n",
       " {'file': './files/CTswim Normoxia Cleaned/412017-CTswim-Normoxia-Cleaned-29-08-2023.csv',\n",
       "  'id': '412017',\n",
       "  'test': 'Normoxia',\n",
       "  'date': '29-08-2023'},\n",
       " {'file': './files/CTswim Normoxia Cleaned/541042-CTswim-Normoxia-Cleaned-12-10-2023.csv',\n",
       "  'id': '541042',\n",
       "  'test': 'Normoxia',\n",
       "  'date': '12-10-2023'},\n",
       " {'file': './files/CTswim Normoxia Cleaned/550993-CTswim-Normoxia-Cleaned-09-08-2023.csv',\n",
       "  'id': '550993',\n",
       "  'test': 'Normoxia',\n",
       "  'date': '09-08-2023'},\n",
       " {'file': './files/CTswim Normoxia Cleaned/411980-CTswim-Normoxia-Cleaned-24-08-2023.csv',\n",
       "  'id': '411980',\n",
       "  'test': 'Normoxia',\n",
       "  'date': '24-08-2023'},\n",
       " {'file': './files/CTswim Normoxia Cleaned/543292-CTswim-Normoxia-Cleaned-29-10-2023.csv',\n",
       "  'id': '543292',\n",
       "  'test': 'Normoxia',\n",
       "  'date': '29-10-2023'},\n",
       " {'file': './files/CTswim Normoxia Cleaned/552940-CTswim-Normoxia-Cleaned-10-11-2023.csv',\n",
       "  'id': '552940',\n",
       "  'test': 'Normoxia',\n",
       "  'date': '10-11-2023'},\n",
       " {'file': './files/CTswim Normoxia Cleaned/546226-CTswim-Normoxia-Cleaned-22-08-2023.csv',\n",
       "  'id': '546226',\n",
       "  'test': 'Normoxia',\n",
       "  'date': '22-08-2023'},\n",
       " {'file': './files/CTswim Normoxia Cleaned/412032-CTswim-Normoxia-Cleaned-13-10-2023.csv',\n",
       "  'id': '412032',\n",
       "  'test': 'Normoxia',\n",
       "  'date': '13-10-2023'},\n",
       " {'file': './files/CTswim Normoxia Cleaned/412030-CTswim-Normoxia-Cleaned-18-09-2023.csv',\n",
       "  'id': '412030',\n",
       "  'test': 'Normoxia',\n",
       "  'date': '18-09-2023'},\n",
       " {'file': './files/CTswim Normoxia Cleaned/412021-CTswim-Normoxia-Cleaned-31-08-2023.csv',\n",
       "  'id': '412021',\n",
       "  'test': 'Normoxia',\n",
       "  'date': '31-08-2023'},\n",
       " {'file': './files/CTswim Normoxia Cleaned/549223-CTswim-Normoxia-Cleaned-12-09-2023.csv',\n",
       "  'id': '549223',\n",
       "  'test': 'Normoxia',\n",
       "  'date': '12-09-2023'},\n",
       " {'file': './files/CTswim Normoxia Cleaned/412054-CTswim-Normoxia-Cleaned-04-11-2023.csv',\n",
       "  'id': '412054',\n",
       "  'test': 'Normoxia',\n",
       "  'date': '04-11-2023'},\n",
       " {'file': './files/CTswim Normoxia Cleaned/543204-CTswim-Normoxia-Cleaned-19-10-2023.csv',\n",
       "  'id': '543204',\n",
       "  'test': 'Normoxia',\n",
       "  'date': '19-10-2023'}]"
      ]
     },
     "execution_count": 67,
     "metadata": {},
     "output_type": "execute_result"
    }
   ],
   "source": [
    "matched_files = []\n",
    "\n",
    "def flatten(xss):\n",
    "    return [x for xs in xss for x in xs]\n",
    "\n",
    "for root, subdirs, files in os.walk(directory):\n",
    "    print(f\"{root}\")\n",
    "    matched_files.append([({'file':root+'/'+f, 'id':match.group(1), 'test':match.group(2), 'date':match.group(3)}) for f in files\n",
    "         if (match := re.compile(filename).search(f))])\n",
    "\n",
    "file_list = flatten(matched_files)\n",
    "file_list\n",
    "        "
   ]
  },
  {
   "cell_type": "markdown",
   "metadata": {},
   "source": [
    "## For each file, read the CSV, and write Excel"
   ]
  },
  {
   "cell_type": "code",
   "execution_count": 68,
   "metadata": {},
   "outputs": [
    {
     "name": "stdout",
     "output_type": "stream",
     "text": [
      "read ./files/CTswim Hyperoxia Cleaned/541042-CTswim-Hyperoxia-Cleaned-25-08-2023.csv for fish 541042 and test Hyperoxia with shape (16993, 5)\n",
      "read ./files/CTswim Hyperoxia Cleaned/412042-CTswim-Hyperoxia-Cleaned-21-09-2023.csv for fish 412042 and test Hyperoxia with shape (13542, 5)\n",
      "read ./files/CTswim Hyperoxia Cleaned/412017-CTswim-Hyperoxia-Cleaned-02-12-2023.csv for fish 412017 and test Hyperoxia with shape (14902, 5)\n",
      "read ./files/CTswim Hyperoxia Cleaned/541021-CTswim-Hyperoxia-Cleaned-03-12-2023.csv for fish 541021 and test Hyperoxia with shape (10771, 5)\n",
      "read ./files/CTswim Hyperoxia Cleaned/412054-CTswim-Hyperoxia-Cleaned-11-09-2023.csv for fish 412054 and test Hyperoxia with shape (12424, 5)\n",
      "read ./files/CTswim Hyperoxia Cleaned/412030-CTswim-Hyperoxia-Cleaned-03-12-2023.csv for fish 412030 and test Hyperoxia with shape (15382, 5)\n",
      "read ./files/CTswim Hyperoxia Cleaned/412056-CTswim-Hyperoxia-Cleaned-04-12-2023.csv for fish 412056 and test Hyperoxia with shape (14892, 5)\n",
      "read ./files/CTswim Hyperoxia Cleaned/543292-CTswim-Hyperoxia-Cleaned-01-09-2023.csv for fish 543292 and test Hyperoxia with shape (13868, 5)\n",
      "read ./files/CTswim Hyperoxia Cleaned/552940-CTswim-Hyperoxia-Cleaned-15-09-2023.csv for fish 552940 and test Hyperoxia with shape (12910, 5)\n",
      "read ./files/CTswim Hyperoxia Cleaned/412032-CTswim-Hyperoxia-Cleaned-28-08-2023.csv for fish 412032 and test Hyperoxia with shape (11782, 5)\n",
      "read ./files/CTswim Hyperoxia Cleaned/538958-CTswim-Hyperoxia-Cleaned-24-08-2023.csv for fish 538958 and test Hyperoxia with shape (21752, 5)\n",
      "read ./files/CTswim Hyperoxia Cleaned/411980-CTswim-Hyperoxia-Cleaned-29-09-2023.csv for fish 411980 and test Hyperoxia with shape (15778, 5)\n",
      "read ./files/CTswim Hyperoxia Cleaned/543204-CTswim-Hyperoxia-Cleaned-30-08-2023.csv for fish 543204 and test Hyperoxia with shape (11959, 5)\n",
      "read ./files/CTswim Hyperoxia Cleaned/550993-CTswim-Hyperoxia-Cleaned-22-09-2023.csv for fish 550993 and test Hyperoxia with shape (16900, 5)\n",
      "read ./files/CTswim Normoxia Cleaned/538958-CTswim-Normoxia-Cleaned-02-10-2023.csv for fish 538958 and test Normoxia with shape (15669, 5)\n",
      "read ./files/CTswim Normoxia Cleaned/412056-CTswim-Normoxia-Cleaned-06-09-2023.csv for fish 412056 and test Normoxia with shape (14255, 5)\n",
      "read ./files/CTswim Normoxia Cleaned/412042-CTswim-Normoxia-Cleaned-13-11-2023.csv for fish 412042 and test Normoxia with shape (15150, 5)\n",
      "read ./files/CTswim Normoxia Cleaned/412017-CTswim-Normoxia-Cleaned-29-08-2023.csv for fish 412017 and test Normoxia with shape (13753, 5)\n",
      "read ./files/CTswim Normoxia Cleaned/541042-CTswim-Normoxia-Cleaned-12-10-2023.csv for fish 541042 and test Normoxia with shape (15597, 5)\n",
      "read ./files/CTswim Normoxia Cleaned/550993-CTswim-Normoxia-Cleaned-09-08-2023.csv for fish 550993 and test Normoxia with shape (16242, 5)\n",
      "read ./files/CTswim Normoxia Cleaned/411980-CTswim-Normoxia-Cleaned-24-08-2023.csv for fish 411980 and test Normoxia with shape (21752, 5)\n",
      "read ./files/CTswim Normoxia Cleaned/543292-CTswim-Normoxia-Cleaned-29-10-2023.csv for fish 543292 and test Normoxia with shape (14443, 5)\n",
      "read ./files/CTswim Normoxia Cleaned/552940-CTswim-Normoxia-Cleaned-10-11-2023.csv for fish 552940 and test Normoxia with shape (9878, 5)\n",
      "read ./files/CTswim Normoxia Cleaned/546226-CTswim-Normoxia-Cleaned-22-08-2023.csv for fish 546226 and test Normoxia with shape (15879, 5)\n",
      "read ./files/CTswim Normoxia Cleaned/412032-CTswim-Normoxia-Cleaned-13-10-2023.csv for fish 412032 and test Normoxia with shape (8476, 5)\n",
      "read ./files/CTswim Normoxia Cleaned/412030-CTswim-Normoxia-Cleaned-18-09-2023.csv for fish 412030 and test Normoxia with shape (13704, 5)\n",
      "read ./files/CTswim Normoxia Cleaned/412021-CTswim-Normoxia-Cleaned-31-08-2023.csv for fish 412021 and test Normoxia with shape (13152, 5)\n",
      "read ./files/CTswim Normoxia Cleaned/549223-CTswim-Normoxia-Cleaned-12-09-2023.csv for fish 549223 and test Normoxia with shape (14594, 5)\n",
      "read ./files/CTswim Normoxia Cleaned/412054-CTswim-Normoxia-Cleaned-04-11-2023.csv for fish 412054 and test Normoxia with shape (11128, 5)\n",
      "read ./files/CTswim Normoxia Cleaned/543204-CTswim-Normoxia-Cleaned-19-10-2023.csv for fish 543204 and test Normoxia with shape (11585, 5)\n",
      "total rows 429112\n"
     ]
    }
   ],
   "source": [
    "all_reports = []\n",
    "total_rows = 0\n",
    "for i, f in enumerate(file_list):\n",
    "    c = pd.read_csv(f['file'])\n",
    "    print(f\"read {f['file']} for fish {f['id']} and test {f['test']} with shape {c.shape}\")\n",
    "    c['id']=f['id']\n",
    "    c['test'] = f['test']\n",
    "    c['date'] = f['date']\n",
    "    c['average'] = (c['ch1']+c['ch2'])/2\n",
    "    all_reports.append(c)\n",
    "    total_rows+=c.shape[0]\n",
    "\n",
    "print(f\"total rows {total_rows}\")\n",
    "\n"
   ]
  },
  {
   "cell_type": "code",
   "execution_count": 69,
   "metadata": {},
   "outputs": [
    {
     "data": {
      "text/html": [
       "<div>\n",
       "<style scoped>\n",
       "    .dataframe tbody tr th:only-of-type {\n",
       "        vertical-align: middle;\n",
       "    }\n",
       "\n",
       "    .dataframe tbody tr th {\n",
       "        vertical-align: top;\n",
       "    }\n",
       "\n",
       "    .dataframe thead th {\n",
       "        text-align: right;\n",
       "    }\n",
       "</style>\n",
       "<table border=\"1\" class=\"dataframe\">\n",
       "  <thead>\n",
       "    <tr style=\"text-align: right;\">\n",
       "      <th></th>\n",
       "      <th>date</th>\n",
       "      <th>time</th>\n",
       "      <th>ch1</th>\n",
       "      <th>ch2</th>\n",
       "      <th>temp</th>\n",
       "      <th>id</th>\n",
       "      <th>test</th>\n",
       "      <th>average</th>\n",
       "    </tr>\n",
       "  </thead>\n",
       "  <tbody>\n",
       "    <tr>\n",
       "      <th>0</th>\n",
       "      <td>25-08-2023</td>\n",
       "      <td>10:24:12</td>\n",
       "      <td>8.976</td>\n",
       "      <td>8.968</td>\n",
       "      <td>18.994</td>\n",
       "      <td>541042</td>\n",
       "      <td>Hyperoxia</td>\n",
       "      <td>8.9720</td>\n",
       "    </tr>\n",
       "    <tr>\n",
       "      <th>1</th>\n",
       "      <td>25-08-2023</td>\n",
       "      <td>10:24:13</td>\n",
       "      <td>8.970</td>\n",
       "      <td>8.983</td>\n",
       "      <td>18.992</td>\n",
       "      <td>541042</td>\n",
       "      <td>Hyperoxia</td>\n",
       "      <td>8.9765</td>\n",
       "    </tr>\n",
       "    <tr>\n",
       "      <th>2</th>\n",
       "      <td>25-08-2023</td>\n",
       "      <td>10:24:14</td>\n",
       "      <td>8.975</td>\n",
       "      <td>8.964</td>\n",
       "      <td>18.992</td>\n",
       "      <td>541042</td>\n",
       "      <td>Hyperoxia</td>\n",
       "      <td>8.9695</td>\n",
       "    </tr>\n",
       "    <tr>\n",
       "      <th>3</th>\n",
       "      <td>25-08-2023</td>\n",
       "      <td>10:24:15</td>\n",
       "      <td>8.983</td>\n",
       "      <td>8.970</td>\n",
       "      <td>18.992</td>\n",
       "      <td>541042</td>\n",
       "      <td>Hyperoxia</td>\n",
       "      <td>8.9765</td>\n",
       "    </tr>\n",
       "    <tr>\n",
       "      <th>4</th>\n",
       "      <td>25-08-2023</td>\n",
       "      <td>10:24:16</td>\n",
       "      <td>8.970</td>\n",
       "      <td>8.962</td>\n",
       "      <td>18.995</td>\n",
       "      <td>541042</td>\n",
       "      <td>Hyperoxia</td>\n",
       "      <td>8.9660</td>\n",
       "    </tr>\n",
       "  </tbody>\n",
       "</table>\n",
       "</div>"
      ],
      "text/plain": [
       "         date      time    ch1    ch2    temp      id       test  average\n",
       "0  25-08-2023  10:24:12  8.976  8.968  18.994  541042  Hyperoxia   8.9720\n",
       "1  25-08-2023  10:24:13  8.970  8.983  18.992  541042  Hyperoxia   8.9765\n",
       "2  25-08-2023  10:24:14  8.975  8.964  18.992  541042  Hyperoxia   8.9695\n",
       "3  25-08-2023  10:24:15  8.983  8.970  18.992  541042  Hyperoxia   8.9765\n",
       "4  25-08-2023  10:24:16  8.970  8.962  18.995  541042  Hyperoxia   8.9660"
      ]
     },
     "execution_count": 69,
     "metadata": {},
     "output_type": "execute_result"
    }
   ],
   "source": [
    "all_reports[0].head()"
   ]
  },
  {
   "cell_type": "code",
   "execution_count": 70,
   "metadata": {},
   "outputs": [],
   "source": [
    "with pd.ExcelWriter('./files/merged_readings.xlsx', engine='xlsxwriter') as writer: \n",
    "    pd.concat(all_reports).to_excel(writer)"
   ]
  }
 ],
 "metadata": {
  "kernelspec": {
   "display_name": ".venv",
   "language": "python",
   "name": "python3"
  },
  "language_info": {
   "codemirror_mode": {
    "name": "ipython",
    "version": 3
   },
   "file_extension": ".py",
   "mimetype": "text/x-python",
   "name": "python",
   "nbconvert_exporter": "python",
   "pygments_lexer": "ipython3",
   "version": "3.11.0"
  }
 },
 "nbformat": 4,
 "nbformat_minor": 2
}
